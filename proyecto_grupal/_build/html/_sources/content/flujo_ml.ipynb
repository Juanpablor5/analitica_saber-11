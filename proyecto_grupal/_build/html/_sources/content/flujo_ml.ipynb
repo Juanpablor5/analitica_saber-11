{
 "cells": [
  {
   "cell_type": "markdown",
   "metadata": {},
   "source": [
    "# Machine Learning, predicción del puntaje global"
   ]
  },
  {
   "cell_type": "markdown",
   "metadata": {},
   "source": [
    "La aplicación de ML elegida es la predicción del desempeño de un individuo por medio de un modelo de regresión, el cual busca predecir el puntaje global de los estudiantes basado en las características de naturaleza del colegio, calendario, género, carácter y jornada."
   ]
  },
  {
   "cell_type": "markdown",
   "metadata": {},
   "source": [
    "Se importan las librerias para la utilización de los datos "
   ]
  },
  {
   "cell_type": "code",
   "execution_count": null,
   "metadata": {},
   "outputs": [],
   "source": [
    "from sqlalchemy import create_engine\n",
    "import pandas as pd"
   ]
  },
  {
   "cell_type": "markdown",
   "metadata": {},
   "source": [
    "Parámetros y conexión con AWS"
   ]
  },
  {
   "cell_type": "code",
   "execution_count": null,
   "metadata": {},
   "outputs": [],
   "source": [
    "host = 'postgres.cspcvpb5rw4y.us-east-1.rds.amazonaws.com'\n",
    "port = '5432'\n",
    "user = 'jrocha'\n",
    "password = 'fjwvacC_d6iupULVdyK7'\n",
    "database = 'analitica'\n",
    "\n",
    "connAlchemy = create_engine(f'postgresql://{user}:{password}@{host}:{port}/{database}')\n",
    "conn = connAlchemy.raw_connection()\n",
    "cur = conn.cursor()"
   ]
  },
  {
   "cell_type": "markdown",
   "metadata": {},
   "source": [
    "La base que se va a utilizar es analitica colegio, la cual contiene las variables id, cole_cod_dane_establecimiento, cole_jornada,   cole_naturaleza, cole_calendario, cole_nombre_establecimiento, cole_caracter, cole_area_ubicacion, cole_genero, prom_punt_global. "
   ]
  },
  {
   "cell_type": "code",
   "execution_count": null,
   "metadata": {},
   "outputs": [],
   "source": [
    "data = pd.read_sql(\"SELECT * FROM analitica_colegio\", con= connAlchemy)\n",
    "data.head()"
   ]
  },
  {
   "cell_type": "markdown",
   "metadata": {},
   "source": [
    "Dado que se cuenta con variables que no otorgan información para el modelo de predicción en la base de datos total, se creó una base de datos que contiene las variables independientes de interés."
   ]
  },
  {
   "cell_type": "code",
   "execution_count": null,
   "metadata": {},
   "outputs": [],
   "source": [
    "df_ind = pd.read_sql(\n",
    "    \"\"\"\n",
    "    SELECT\n",
    "        a.cole_jornada, \n",
    "        a.cole_naturaleza, \n",
    "        a.cole_calendario, \n",
    "        a.cole_caracter, \n",
    "        a.cole_genero \n",
    "    FROM \n",
    "        analitica_colegio as a\n",
    "        \"\"\",\n",
    "    con=connAlchemy,\n",
    ")"
   ]
  },
  {
   "cell_type": "code",
   "execution_count": null,
   "metadata": {},
   "outputs": [],
   "source": [
    "df_ind.head()"
   ]
  },
  {
   "cell_type": "markdown",
   "metadata": {},
   "source": [
    "A partir de esto, se transformaron las variables independientes que eran texto a dummies mediante one-hot encoding de pandas y se definió la variable dependiente promedio puntaje global como la variable a predecir. También, se separa la muestra entre conjunto de entrenamiento y conjunto de prueba y se entrena un modelo de regresión lineal para la predicción de la variable dependiente promedio puntaje global. \n",
    "\n",
    "Con el fin de hacerlo más interactivo, se diseño una interfaz de usuario utilizando 'tkinter' con listas desplegables para seleccionar las características del estudiantes y predecir su puntaje, mostrando el resultado de la predicción en la interfaz por medio de un botón. "
   ]
  },
  {
   "cell_type": "code",
   "execution_count": null,
   "metadata": {},
   "outputs": [],
   "source": [
    "import tkinter as tk\n",
    "from sklearn.linear_model import LinearRegression\n",
    "from sklearn.model_selection import train_test_split\n",
    "from sklearn.impute import SimpleImputer\n",
    "\n",
    "\n",
    "def main():\n",
    "    X = pd.get_dummies(df_ind)\n",
    "    y = data[\"prom_punt_global\"]\n",
    "\n",
    "    X_train, X_test, y_train, y_test = train_test_split(\n",
    "        X, y, test_size=0.2, random_state=42\n",
    "    )\n",
    "\n",
    "    model = LinearRegression()\n",
    "    model.fit(X_train, y_train)\n",
    "\n",
    "    model.predict(X_test)\n",
    "\n",
    "    crear_aplicacion(model)\n",
    "\n",
    "\n",
    "def crear_aplicacion(modelo):\n",
    "    app = tk.Tk()\n",
    "    app.title(\"Aplicación de Predicción de Puntaje\")\n",
    "\n",
    "    datos_entrada = [\n",
    "        \"cole_jornada_COMPLETA\",\n",
    "        \"cole_jornada_MAÑANA\",\n",
    "        \"cole_jornada_NOCHE\",\n",
    "        \"cole_jornada_SABATINA\",\n",
    "        \"cole_jornada_TARDE\",\n",
    "        \"cole_jornada_UNICA\",\n",
    "        \"cole_naturaleza_NO OFICIAL\",\n",
    "        \"cole_naturaleza_OFICIAL\",\n",
    "        \"cole_calendario_A\",\n",
    "        \"cole_calendario_B\",\n",
    "        \"cole_calendario_OTRO\",\n",
    "        \"cole_caracter_\",\n",
    "        \"cole_caracter_ACADÉMICO\",\n",
    "        \"cole_caracter_NO APLICA\",\n",
    "        \"cole_caracter_TÉCNICO\",\n",
    "        \"cole_caracter_TÉCNICO/ACADÉMICO\",\n",
    "        \"cole_genero_FEMENINO\",\n",
    "        \"cole_genero_MASCULINO\",\n",
    "        \"cole_genero_MIXTO\",\n",
    "    ]\n",
    "\n",
    "    opciones_agrupadas = {\n",
    "        \"cole_jornada\": \"Seleccione jornada\",\n",
    "        \"cole_naturaleza\": \"Seleccione naturaleza\",\n",
    "        \"cole_calendario\": \"Seleccione calendario\",\n",
    "        \"cole_caracter\": \"Seleccione caracter\",\n",
    "        \"cole_genero\": \"Seleccione genero\",\n",
    "    }\n",
    "\n",
    "    vars_caracteristicas = {\n",
    "        grupo: tk.StringVar() for grupo in opciones_agrupadas.keys()\n",
    "    }\n",
    "    etiquetas_seleccion = {}\n",
    "\n",
    "    for grupo, default_option in opciones_agrupadas.items():\n",
    "        grupo_frame = tk.Frame(app)\n",
    "        grupo_frame.pack()\n",
    "        tk.Label(grupo_frame, text=f\"{grupo}\").pack(side=tk.LEFT)\n",
    "        opciones = [\"No seleccionar\"] + [\n",
    "            opcion.split(\"_\", 2)[-1]\n",
    "            for opcion in datos_entrada\n",
    "            if opcion.startswith(grupo)\n",
    "        ]\n",
    "        lista_desplegable = tk.OptionMenu(\n",
    "            grupo_frame,\n",
    "            vars_caracteristicas[grupo],\n",
    "            default_option,\n",
    "            *opciones,\n",
    "            command=lambda value, grupo=grupo: etiquetas_seleccion[grupo].config(\n",
    "                text=\"Listo\"\n",
    "            ),\n",
    "        )\n",
    "        lista_desplegable.pack(side=tk.LEFT)\n",
    "        etiquetas_seleccion[grupo] = tk.Label(grupo_frame, text=default_option)\n",
    "        etiquetas_seleccion[grupo].pack(side=tk.LEFT)\n",
    "\n",
    "    resultado_prediccion = tk.Label(app, text=\"\")\n",
    "    resultado_prediccion.pack()\n",
    "\n",
    "    def predecir_puntaje():\n",
    "        caracteristicas_seleccionadas = []\n",
    "        for grupo, opcion_var in vars_caracteristicas.items():\n",
    "            opcion_seleccionada = opcion_var.get()\n",
    "            if opcion_seleccionada != \"No seleccionar\":\n",
    "                caracteristicas_seleccionadas.append(grupo + \"_\" + opcion_seleccionada)\n",
    "\n",
    "        if not caracteristicas_seleccionadas:\n",
    "            resultado_prediccion.config(text=\"Ninguna característica seleccionada\")\n",
    "            return\n",
    "\n",
    "        df_prediccion = pd.DataFrame(columns=datos_entrada)\n",
    "        for caracteristica in datos_entrada:\n",
    "            if caracteristica in caracteristicas_seleccionadas:\n",
    "                df_prediccion[caracteristica] = [1]\n",
    "            else:\n",
    "                df_prediccion[caracteristica] = [0]\n",
    "\n",
    "        imputer = SimpleImputer(strategy=\"mean\")\n",
    "        df_prediccion_imputed = pd.DataFrame(\n",
    "            imputer.fit_transform(df_prediccion), columns=df_prediccion.columns\n",
    "        )\n",
    "\n",
    "        puntaje_predicho = modelo.predict(df_prediccion_imputed)\n",
    "\n",
    "        resultado_prediccion.config(text=f\"Puntaje predicho: {puntaje_predicho[0]}\")\n",
    "\n",
    "    btn_predecir = tk.Button(app, text=\"Predecir Puntaje\", command=predecir_puntaje)\n",
    "    btn_predecir.pack()\n",
    "\n",
    "    app.mainloop()"
   ]
  },
  {
   "cell_type": "markdown",
   "metadata": {},
   "source": [
    "Ejecuta la función y muestra la interfaz de usuario"
   ]
  },
  {
   "cell_type": "code",
   "execution_count": null,
   "metadata": {},
   "outputs": [],
   "source": [
    "main()"
   ]
  },
  {
   "cell_type": "markdown",
   "metadata": {},
   "source": [
    "![image.png](../assets/ml1.png)\n",
    "\n",
    "![image-2.png](../assets/ml2.png)"
   ]
  },
  {
   "cell_type": "markdown",
   "metadata": {},
   "source": [
    "En esta aplicación, puede revisarse por factores, manteniendo todas las demás variables constantes, los efectos de las diferentes categorías de características institucionales, facilitando el análisis.\n",
    "\n",
    "Por ejemplo, en el caso de un colegio con jornada completa, de naturaleza no oficial, calendario A, caracter académico y género mixto, el modelo de ML predice que el resultado promedio de la institución será de 286 aproximadamente. Mientras que en el caso de un colegio con las mismas condiciones pero de calendario B tiene un promedio en el puntaje global de 338, lo cual podría indicar menor cantidad de estudiantes, variación en la calidad de la educación entre calendarios, entre otros factores que aportan al análisis del sistema educativo en el país."
   ]
  },
  {
   "cell_type": "markdown",
   "metadata": {},
   "source": [
    "Este modelo de ML, que realiza predicciones del promedio del puntaje global con base en características institucionales, permite plantear una mejora de las políticas educativas o realizar intervenciones tempranas en el tipo de instituciones identificadas con menor puntaje para poder mejorar su desempeño académico, contribuyendo a los estudiantes, educadores y el sistema educativo en general. "
   ]
  }
 ],
 "metadata": {
  "kernelspec": {
   "display_name": "machinel",
   "language": "python",
   "name": "python3"
  },
  "language_info": {
   "codemirror_mode": {
    "name": "ipython",
    "version": 3
   },
   "file_extension": ".py",
   "mimetype": "text/x-python",
   "name": "python",
   "nbconvert_exporter": "python",
   "pygments_lexer": "ipython3",
   "version": "3.11.7"
  }
 },
 "nbformat": 4,
 "nbformat_minor": 2
}
